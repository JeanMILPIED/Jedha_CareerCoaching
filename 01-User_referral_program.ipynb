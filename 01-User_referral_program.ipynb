{
 "cells": [
  {
   "cell_type": "markdown",
   "metadata": {},
   "source": [
    "# Coding Challenge - User Referral Program\n",
    "\n",
    "## Goal 🎯\n",
    "\n",
    "Many websites use referrals to reward word-of-mouth and ultimately attract new users. The idea is simple, if you talk to someone about a product and that someone registers to the company's website (or product), you receive a reward.\n",
    "\n",
    "The goal of this challenge is to measure the impact of a *referral program* in a marketing campaign\n",
    "\n",
    "## Description 😎\n",
    "\n",
    "Company X has just started its *referral program* on October 31. Each user who refers someone will receive a $10 credits.\n",
    "\n",
    "The program has been running for a month now, and the Growth Marketing team would like to know how well the campaign went. They are quite pleased because it seems that there has been a jump in the number of users since the program was implemented.\n",
    "\n",
    "The team would like to show these results to their boss. For that, they need you to:\n",
    "\n",
    "1. Estimate the impact of the program\n",
    "2. Make recommendations on the next steps to be taken.\n",
    "\n",
    "\n",
    "3. Bonus - It seems the referral program has not been rigorously implemented. Could you suggest a more *statistical* way of setting up the next program and give, for each case, the risks that this represents.\n",
    "\n",
    "## Data\n",
    "\n",
    "Download *referral.csv* here 👉👉 <a href=\"https://full-stack-bigdata-datasets.s3.eu-west-3.amazonaws.com/Coaching+Carri%C3%A8re/referral.csv\" target=\"_blank\">DATASET</a>."
   ]
  },
  {
   "cell_type": "markdown",
   "metadata": {},
   "source": [
    "## Step0: import packages"
   ]
  },
  {
   "cell_type": "code",
   "execution_count": 51,
   "metadata": {},
   "outputs": [],
   "source": [
    "import pandas as pd\n",
    "import numpy as np\n",
    "import os\n",
    "import matplotlib.pyplot as plt\n",
    "import seaborn as sns"
   ]
  },
  {
   "cell_type": "markdown",
   "metadata": {},
   "source": [
    "## Step1: load the data"
   ]
  },
  {
   "cell_type": "code",
   "execution_count": 4,
   "metadata": {},
   "outputs": [],
   "source": [
    "df=pd.read_csv('referral.csv')"
   ]
  },
  {
   "cell_type": "markdown",
   "metadata": {},
   "source": [
    "## Step2: inspect the data  \n",
    "- impact of week ends: separate weekdays and weekends: convert date column\n",
    "- get the number of unique users before and after 31-10 - done for weekday and weekends  \n",
    "- get the number of referrals after the launch of the program  \n",
    "- get the mean revenues before and after the launch of the program per day  \n",
    "- get the total revenues and the cost of referrals  \n",
    "- explore the impact before / after for some countries  \n",
    "\n",
    "More transactions on weekends, amount of transactions may increase also, look by countries before and after revenues per days  "
   ]
  },
  {
   "cell_type": "code",
   "execution_count": 6,
   "metadata": {},
   "outputs": [
    {
     "data": {
      "text/plain": [
       "(97341, 6)"
      ]
     },
     "execution_count": 6,
     "metadata": {},
     "output_type": "execute_result"
    }
   ],
   "source": [
    "df.shape"
   ]
  },
  {
   "cell_type": "code",
   "execution_count": 7,
   "metadata": {
    "scrolled": true
   },
   "outputs": [
    {
     "data": {
      "text/html": [
       "<div>\n",
       "<style scoped>\n",
       "    .dataframe tbody tr th:only-of-type {\n",
       "        vertical-align: middle;\n",
       "    }\n",
       "\n",
       "    .dataframe tbody tr th {\n",
       "        vertical-align: top;\n",
       "    }\n",
       "\n",
       "    .dataframe thead th {\n",
       "        text-align: right;\n",
       "    }\n",
       "</style>\n",
       "<table border=\"1\" class=\"dataframe\">\n",
       "  <thead>\n",
       "    <tr style=\"text-align: right;\">\n",
       "      <th></th>\n",
       "      <th>user_id</th>\n",
       "      <th>date</th>\n",
       "      <th>country</th>\n",
       "      <th>money_spent</th>\n",
       "      <th>is_referral</th>\n",
       "      <th>device_id</th>\n",
       "    </tr>\n",
       "  </thead>\n",
       "  <tbody>\n",
       "    <tr>\n",
       "      <th>0</th>\n",
       "      <td>2</td>\n",
       "      <td>2015-10-03</td>\n",
       "      <td>FR</td>\n",
       "      <td>65</td>\n",
       "      <td>0</td>\n",
       "      <td>EVDCJTZMVMJDG</td>\n",
       "    </tr>\n",
       "    <tr>\n",
       "      <th>1</th>\n",
       "      <td>3</td>\n",
       "      <td>2015-10-03</td>\n",
       "      <td>CA</td>\n",
       "      <td>54</td>\n",
       "      <td>0</td>\n",
       "      <td>WUBZFTVKXGQQX</td>\n",
       "    </tr>\n",
       "    <tr>\n",
       "      <th>2</th>\n",
       "      <td>6</td>\n",
       "      <td>2015-10-03</td>\n",
       "      <td>FR</td>\n",
       "      <td>35</td>\n",
       "      <td>0</td>\n",
       "      <td>CBAPCJRTFNUJG</td>\n",
       "    </tr>\n",
       "    <tr>\n",
       "      <th>3</th>\n",
       "      <td>7</td>\n",
       "      <td>2015-10-03</td>\n",
       "      <td>UK</td>\n",
       "      <td>73</td>\n",
       "      <td>0</td>\n",
       "      <td>PRGXJZAJKMXRH</td>\n",
       "    </tr>\n",
       "    <tr>\n",
       "      <th>4</th>\n",
       "      <td>7</td>\n",
       "      <td>2015-10-03</td>\n",
       "      <td>MX</td>\n",
       "      <td>35</td>\n",
       "      <td>0</td>\n",
       "      <td>PRGXJZAJKMXRH</td>\n",
       "    </tr>\n",
       "  </tbody>\n",
       "</table>\n",
       "</div>"
      ],
      "text/plain": [
       "   user_id        date country  money_spent  is_referral      device_id\n",
       "0        2  2015-10-03      FR           65            0  EVDCJTZMVMJDG\n",
       "1        3  2015-10-03      CA           54            0  WUBZFTVKXGQQX\n",
       "2        6  2015-10-03      FR           35            0  CBAPCJRTFNUJG\n",
       "3        7  2015-10-03      UK           73            0  PRGXJZAJKMXRH\n",
       "4        7  2015-10-03      MX           35            0  PRGXJZAJKMXRH"
      ]
     },
     "execution_count": 7,
     "metadata": {},
     "output_type": "execute_result"
    }
   ],
   "source": [
    "df.head(5)"
   ]
  },
  {
   "cell_type": "code",
   "execution_count": 19,
   "metadata": {
    "scrolled": true
   },
   "outputs": [
    {
     "data": {
      "text/html": [
       "<div>\n",
       "<style scoped>\n",
       "    .dataframe tbody tr th:only-of-type {\n",
       "        vertical-align: middle;\n",
       "    }\n",
       "\n",
       "    .dataframe tbody tr th {\n",
       "        vertical-align: top;\n",
       "    }\n",
       "\n",
       "    .dataframe thead th {\n",
       "        text-align: right;\n",
       "    }\n",
       "</style>\n",
       "<table border=\"1\" class=\"dataframe\">\n",
       "  <thead>\n",
       "    <tr style=\"text-align: right;\">\n",
       "      <th></th>\n",
       "      <th>user_id</th>\n",
       "      <th>date</th>\n",
       "      <th>country</th>\n",
       "      <th>money_spent</th>\n",
       "      <th>is_referral</th>\n",
       "      <th>device_id</th>\n",
       "    </tr>\n",
       "  </thead>\n",
       "  <tbody>\n",
       "    <tr>\n",
       "      <th>97336</th>\n",
       "      <td>19934</td>\n",
       "      <td>2015-11-27</td>\n",
       "      <td>UK</td>\n",
       "      <td>35</td>\n",
       "      <td>1</td>\n",
       "      <td>AWMDRMOFTSZIH</td>\n",
       "    </tr>\n",
       "    <tr>\n",
       "      <th>97337</th>\n",
       "      <td>19941</td>\n",
       "      <td>2015-11-27</td>\n",
       "      <td>DE</td>\n",
       "      <td>31</td>\n",
       "      <td>1</td>\n",
       "      <td>QAUSDXXLVUERE</td>\n",
       "    </tr>\n",
       "    <tr>\n",
       "      <th>97338</th>\n",
       "      <td>19948</td>\n",
       "      <td>2015-11-27</td>\n",
       "      <td>UK</td>\n",
       "      <td>22</td>\n",
       "      <td>1</td>\n",
       "      <td>DCYLHYFLMRODO</td>\n",
       "    </tr>\n",
       "    <tr>\n",
       "      <th>97339</th>\n",
       "      <td>19953</td>\n",
       "      <td>2015-11-27</td>\n",
       "      <td>UK</td>\n",
       "      <td>35</td>\n",
       "      <td>1</td>\n",
       "      <td>LROILUYWCNVWQ</td>\n",
       "    </tr>\n",
       "    <tr>\n",
       "      <th>97340</th>\n",
       "      <td>19984</td>\n",
       "      <td>2015-11-27</td>\n",
       "      <td>FR</td>\n",
       "      <td>15</td>\n",
       "      <td>1</td>\n",
       "      <td>VFXAMMQDFORSS</td>\n",
       "    </tr>\n",
       "  </tbody>\n",
       "</table>\n",
       "</div>"
      ],
      "text/plain": [
       "       user_id        date country  money_spent  is_referral      device_id\n",
       "97336    19934  2015-11-27      UK           35            1  AWMDRMOFTSZIH\n",
       "97337    19941  2015-11-27      DE           31            1  QAUSDXXLVUERE\n",
       "97338    19948  2015-11-27      UK           22            1  DCYLHYFLMRODO\n",
       "97339    19953  2015-11-27      UK           35            1  LROILUYWCNVWQ\n",
       "97340    19984  2015-11-27      FR           15            1  VFXAMMQDFORSS"
      ]
     },
     "execution_count": 19,
     "metadata": {},
     "output_type": "execute_result"
    }
   ],
   "source": [
    "df.tail(5)"
   ]
  },
  {
   "cell_type": "code",
   "execution_count": 26,
   "metadata": {},
   "outputs": [],
   "source": [
    "df['new_date']=pd.to_datetime(df['date'])\n",
    "df[\"is_weekend\"] = df['new_date'].dt.day_name().isin(['Saturday', 'Sunday'])"
   ]
  },
  {
   "cell_type": "code",
   "execution_count": 34,
   "metadata": {},
   "outputs": [
    {
     "data": {
      "text/html": [
       "<div>\n",
       "<style scoped>\n",
       "    .dataframe tbody tr th:only-of-type {\n",
       "        vertical-align: middle;\n",
       "    }\n",
       "\n",
       "    .dataframe tbody tr th {\n",
       "        vertical-align: top;\n",
       "    }\n",
       "\n",
       "    .dataframe thead th {\n",
       "        text-align: right;\n",
       "    }\n",
       "</style>\n",
       "<table border=\"1\" class=\"dataframe\">\n",
       "  <thead>\n",
       "    <tr style=\"text-align: right;\">\n",
       "      <th></th>\n",
       "      <th>user_id</th>\n",
       "      <th>date</th>\n",
       "      <th>country</th>\n",
       "      <th>money_spent</th>\n",
       "      <th>is_referral</th>\n",
       "      <th>device_id</th>\n",
       "      <th>new_date</th>\n",
       "      <th>Is Weekend</th>\n",
       "      <th>is_weekend</th>\n",
       "    </tr>\n",
       "  </thead>\n",
       "  <tbody>\n",
       "    <tr>\n",
       "      <th>0</th>\n",
       "      <td>2</td>\n",
       "      <td>2015-10-03</td>\n",
       "      <td>FR</td>\n",
       "      <td>65</td>\n",
       "      <td>0</td>\n",
       "      <td>EVDCJTZMVMJDG</td>\n",
       "      <td>2015-10-03</td>\n",
       "      <td>True</td>\n",
       "      <td>True</td>\n",
       "    </tr>\n",
       "    <tr>\n",
       "      <th>1</th>\n",
       "      <td>3</td>\n",
       "      <td>2015-10-03</td>\n",
       "      <td>CA</td>\n",
       "      <td>54</td>\n",
       "      <td>0</td>\n",
       "      <td>WUBZFTVKXGQQX</td>\n",
       "      <td>2015-10-03</td>\n",
       "      <td>True</td>\n",
       "      <td>True</td>\n",
       "    </tr>\n",
       "    <tr>\n",
       "      <th>2</th>\n",
       "      <td>6</td>\n",
       "      <td>2015-10-03</td>\n",
       "      <td>FR</td>\n",
       "      <td>35</td>\n",
       "      <td>0</td>\n",
       "      <td>CBAPCJRTFNUJG</td>\n",
       "      <td>2015-10-03</td>\n",
       "      <td>True</td>\n",
       "      <td>True</td>\n",
       "    </tr>\n",
       "    <tr>\n",
       "      <th>3</th>\n",
       "      <td>7</td>\n",
       "      <td>2015-10-03</td>\n",
       "      <td>UK</td>\n",
       "      <td>73</td>\n",
       "      <td>0</td>\n",
       "      <td>PRGXJZAJKMXRH</td>\n",
       "      <td>2015-10-03</td>\n",
       "      <td>True</td>\n",
       "      <td>True</td>\n",
       "    </tr>\n",
       "    <tr>\n",
       "      <th>4</th>\n",
       "      <td>7</td>\n",
       "      <td>2015-10-03</td>\n",
       "      <td>MX</td>\n",
       "      <td>35</td>\n",
       "      <td>0</td>\n",
       "      <td>PRGXJZAJKMXRH</td>\n",
       "      <td>2015-10-03</td>\n",
       "      <td>True</td>\n",
       "      <td>True</td>\n",
       "    </tr>\n",
       "  </tbody>\n",
       "</table>\n",
       "</div>"
      ],
      "text/plain": [
       "   user_id        date country  money_spent  is_referral      device_id  \\\n",
       "0        2  2015-10-03      FR           65            0  EVDCJTZMVMJDG   \n",
       "1        3  2015-10-03      CA           54            0  WUBZFTVKXGQQX   \n",
       "2        6  2015-10-03      FR           35            0  CBAPCJRTFNUJG   \n",
       "3        7  2015-10-03      UK           73            0  PRGXJZAJKMXRH   \n",
       "4        7  2015-10-03      MX           35            0  PRGXJZAJKMXRH   \n",
       "\n",
       "    new_date  Is Weekend  is_weekend  \n",
       "0 2015-10-03        True        True  \n",
       "1 2015-10-03        True        True  \n",
       "2 2015-10-03        True        True  \n",
       "3 2015-10-03        True        True  \n",
       "4 2015-10-03        True        True  "
      ]
     },
     "execution_count": 34,
     "metadata": {},
     "output_type": "execute_result"
    }
   ],
   "source": [
    "df.head(5)"
   ]
  },
  {
   "cell_type": "code",
   "execution_count": 14,
   "metadata": {},
   "outputs": [
    {
     "data": {
      "text/html": [
       "<div>\n",
       "<style scoped>\n",
       "    .dataframe tbody tr th:only-of-type {\n",
       "        vertical-align: middle;\n",
       "    }\n",
       "\n",
       "    .dataframe tbody tr th {\n",
       "        vertical-align: top;\n",
       "    }\n",
       "\n",
       "    .dataframe thead th {\n",
       "        text-align: right;\n",
       "    }\n",
       "</style>\n",
       "<table border=\"1\" class=\"dataframe\">\n",
       "  <thead>\n",
       "    <tr style=\"text-align: right;\">\n",
       "      <th></th>\n",
       "      <th></th>\n",
       "      <th>country</th>\n",
       "      <th>money_spent</th>\n",
       "      <th>is_referral</th>\n",
       "      <th>device_id</th>\n",
       "    </tr>\n",
       "    <tr>\n",
       "      <th>date</th>\n",
       "      <th>user_id</th>\n",
       "      <th></th>\n",
       "      <th></th>\n",
       "      <th></th>\n",
       "      <th></th>\n",
       "    </tr>\n",
       "  </thead>\n",
       "  <tbody>\n",
       "    <tr>\n",
       "      <th rowspan=\"5\" valign=\"top\">2015-10-03</th>\n",
       "      <th>2</th>\n",
       "      <td>1</td>\n",
       "      <td>1</td>\n",
       "      <td>1</td>\n",
       "      <td>1</td>\n",
       "    </tr>\n",
       "    <tr>\n",
       "      <th>3</th>\n",
       "      <td>1</td>\n",
       "      <td>1</td>\n",
       "      <td>1</td>\n",
       "      <td>1</td>\n",
       "    </tr>\n",
       "    <tr>\n",
       "      <th>6</th>\n",
       "      <td>1</td>\n",
       "      <td>1</td>\n",
       "      <td>1</td>\n",
       "      <td>1</td>\n",
       "    </tr>\n",
       "    <tr>\n",
       "      <th>7</th>\n",
       "      <td>2</td>\n",
       "      <td>2</td>\n",
       "      <td>2</td>\n",
       "      <td>2</td>\n",
       "    </tr>\n",
       "    <tr>\n",
       "      <th>10</th>\n",
       "      <td>1</td>\n",
       "      <td>1</td>\n",
       "      <td>1</td>\n",
       "      <td>1</td>\n",
       "    </tr>\n",
       "    <tr>\n",
       "      <th>...</th>\n",
       "      <th>...</th>\n",
       "      <td>...</td>\n",
       "      <td>...</td>\n",
       "      <td>...</td>\n",
       "      <td>...</td>\n",
       "    </tr>\n",
       "    <tr>\n",
       "      <th rowspan=\"5\" valign=\"top\">2015-11-27</th>\n",
       "      <th>19934</th>\n",
       "      <td>1</td>\n",
       "      <td>1</td>\n",
       "      <td>1</td>\n",
       "      <td>1</td>\n",
       "    </tr>\n",
       "    <tr>\n",
       "      <th>19941</th>\n",
       "      <td>1</td>\n",
       "      <td>1</td>\n",
       "      <td>1</td>\n",
       "      <td>1</td>\n",
       "    </tr>\n",
       "    <tr>\n",
       "      <th>19948</th>\n",
       "      <td>1</td>\n",
       "      <td>1</td>\n",
       "      <td>1</td>\n",
       "      <td>1</td>\n",
       "    </tr>\n",
       "    <tr>\n",
       "      <th>19953</th>\n",
       "      <td>1</td>\n",
       "      <td>1</td>\n",
       "      <td>1</td>\n",
       "      <td>1</td>\n",
       "    </tr>\n",
       "    <tr>\n",
       "      <th>19984</th>\n",
       "      <td>1</td>\n",
       "      <td>1</td>\n",
       "      <td>1</td>\n",
       "      <td>1</td>\n",
       "    </tr>\n",
       "  </tbody>\n",
       "</table>\n",
       "<p>86000 rows × 4 columns</p>\n",
       "</div>"
      ],
      "text/plain": [
       "                    country  money_spent  is_referral  device_id\n",
       "date       user_id                                              \n",
       "2015-10-03 2              1            1            1          1\n",
       "           3              1            1            1          1\n",
       "           6              1            1            1          1\n",
       "           7              2            2            2          2\n",
       "           10             1            1            1          1\n",
       "...                     ...          ...          ...        ...\n",
       "2015-11-27 19934          1            1            1          1\n",
       "           19941          1            1            1          1\n",
       "           19948          1            1            1          1\n",
       "           19953          1            1            1          1\n",
       "           19984          1            1            1          1\n",
       "\n",
       "[86000 rows x 4 columns]"
      ]
     },
     "execution_count": 14,
     "metadata": {},
     "output_type": "execute_result"
    }
   ],
   "source": [
    "df.groupby(['date','user_id']).count()"
   ]
  },
  {
   "cell_type": "code",
   "execution_count": 11,
   "metadata": {
    "scrolled": true
   },
   "outputs": [
    {
     "data": {
      "image/png": "[encoded data removed]",
      "text/plain": [
       "<Figure size 640x480 with 1 Axes>"
      ]
     },
     "metadata": {},
     "output_type": "display_data"
    }
   ],
   "source": [
    "plt.bar(df.groupby('date').count().index,df.groupby('date').count().iloc[:,0])\n",
    "plt.xticks(rotation=90)\n",
    "plt.show()"
   ]
  },
  {
   "cell_type": "code",
   "execution_count": 17,
   "metadata": {},
   "outputs": [],
   "source": [
    "# number of users before 31/10/2015\n",
    "list_user_before = df[df.date<'2015-10-31'].user_id.unique()\n",
    "list_user_after = df[df.date>='2015-10-31'].user_id.unique()"
   ]
  },
  {
   "cell_type": "code",
   "execution_count": 18,
   "metadata": {},
   "outputs": [
    {
     "name": "stdout",
     "output_type": "stream",
     "text": [
      "5000 18397\n"
     ]
    }
   ],
   "source": [
    "print(len(list_user_before),len(list_user_after))\n"
   ]
  },
  {
   "cell_type": "code",
   "execution_count": 32,
   "metadata": {},
   "outputs": [],
   "source": [
    "#mean number of users per day before and after 31/10\n",
    "mean_before_weekday= df[(df.date<'2015-10-31')&(df.is_weekend==False)].groupby('date').count().iloc[:,0].mean()\n",
    "mean_before_weekend= df[(df.date<'2015-10-31')&(df.is_weekend==True)].groupby('date').count().iloc[:,0].mean()\n",
    "mean_after_weekday= df[(df.date>'2015-10-31')&(df.is_weekend==False)].groupby('date').count().iloc[:,0].mean()\n",
    "mean_after_weekend= df[(df.date>'2015-10-31')&(df.is_weekend==True)].groupby('date').count().iloc[:,0].mean()"
   ]
  },
  {
   "cell_type": "code",
   "execution_count": 33,
   "metadata": {},
   "outputs": [
    {
     "data": {
      "text/plain": [
       "(1137.75, 3073.25, 1214.6, 3210.714285714286)"
      ]
     },
     "execution_count": 33,
     "metadata": {},
     "output_type": "execute_result"
    }
   ],
   "source": [
    "mean_before_weekday, mean_before_weekend, mean_after_weekday, mean_after_weekend"
   ]
  },
  {
   "cell_type": "code",
   "execution_count": 36,
   "metadata": {},
   "outputs": [],
   "source": [
    "#how many users are referral after\n",
    "list_user_after_referral = df[(df.date>='2015-10-31') & (df.is_referral==1)].user_id.unique()"
   ]
  },
  {
   "cell_type": "code",
   "execution_count": 38,
   "metadata": {},
   "outputs": [
    {
     "data": {
      "text/plain": [
       "12715"
      ]
     },
     "execution_count": 38,
     "metadata": {},
     "output_type": "execute_result"
    }
   ],
   "source": [
    "len(list_user_after_referral)"
   ]
  },
  {
   "cell_type": "code",
   "execution_count": 39,
   "metadata": {},
   "outputs": [],
   "source": [
    "#what are revenues ?\n",
    "#mean revenues per day before and after 31/10\n",
    "mean_rev_before_weekday= df[(df.date<'2015-10-31')&(df.is_weekend==False)].groupby('date').sum().loc[:,'money_spent'].mean()\n",
    "mean_rev_before_weekend= df[(df.date<'2015-10-31')&(df.is_weekend==True)].groupby('date').sum().loc[:,'money_spent'].mean()\n",
    "mean_rev_after_weekday= df[(df.date>'2015-10-31')&(df.is_weekend==False)].groupby('date').sum().loc[:,'money_spent'].mean()\n",
    "mean_rev_after_weekend= df[(df.date>'2015-10-31')&(df.is_weekend==True)].groupby('date').sum().loc[:,'money_spent'].mean()"
   ]
  },
  {
   "cell_type": "code",
   "execution_count": 40,
   "metadata": {},
   "outputs": [
    {
     "data": {
      "text/plain": [
       "(48291.25, 130071.375, 56947.75, 150493.14285714287)"
      ]
     },
     "execution_count": 40,
     "metadata": {},
     "output_type": "execute_result"
    }
   ],
   "source": [
    "mean_rev_before_weekday, mean_rev_before_weekend, mean_rev_after_weekday, mean_rev_after_weekend"
   ]
  },
  {
   "cell_type": "code",
   "execution_count": 45,
   "metadata": {},
   "outputs": [],
   "source": [
    "total_revenue_before=df[df.date<'2015-10-31'].money_spent.sum()\n",
    "total_revenue_after = df[df.date>='2015-10-31'].money_spent.sum()\n",
    "total_referral_cost = len(df[(df.date>='2015-10-31') & (df.is_referral==1)].user_id.unique())*10"
   ]
  },
  {
   "cell_type": "code",
   "execution_count": 46,
   "metadata": {},
   "outputs": [
    {
     "data": {
      "text/plain": [
       "(2006396, 2344003, 127150)"
      ]
     },
     "execution_count": 46,
     "metadata": {},
     "output_type": "execute_result"
    }
   ],
   "source": [
    "total_revenue_before, total_revenue_after, total_referral_cost"
   ]
  },
  {
   "cell_type": "code",
   "execution_count": 47,
   "metadata": {},
   "outputs": [
    {
     "data": {
      "text/plain": [
       "1107     27\n",
       "1532     25\n",
       "2236     25\n",
       "1483     24\n",
       "2208     24\n",
       "         ..\n",
       "9412      1\n",
       "9473      1\n",
       "12473     1\n",
       "9530      1\n",
       "19934     1\n",
       "Name: user_id, Length: 18809, dtype: int64"
      ]
     },
     "execution_count": 47,
     "metadata": {},
     "output_type": "execute_result"
    }
   ],
   "source": [
    "# explore the returning customers\n",
    "df.user_id.value_counts()"
   ]
  },
  {
   "cell_type": "code",
   "execution_count": 49,
   "metadata": {},
   "outputs": [
    {
     "data": {
      "text/plain": [
       "user_id\n",
       "1532     1176\n",
       "1107     1168\n",
       "3592     1161\n",
       "2236     1157\n",
       "1695     1148\n",
       "         ... \n",
       "13568      10\n",
       "5014       10\n",
       "5538       10\n",
       "16096      10\n",
       "6726       10\n",
       "Name: money_spent, Length: 18809, dtype: int64"
      ]
     },
     "execution_count": 49,
     "metadata": {},
     "output_type": "execute_result"
    }
   ],
   "source": [
    "df.groupby('user_id').sum().loc[:,'money_spent'].sort_values(ascending=False)"
   ]
  },
  {
   "cell_type": "code",
   "execution_count": 55,
   "metadata": {},
   "outputs": [
    {
     "data": {
      "image/png": "[encoded data removed]",
      "text/plain": [
       "<Figure size 1800x1200 with 2 Axes>"
      ]
     },
     "metadata": {},
     "output_type": "display_data"
    }
   ],
   "source": [
    "#make some plots\n",
    "# daily money spent visualization\n",
    "fig, ax = plt.subplots(nrows=2, ncols=1, figsize=(18, 12))\n",
    "sns.countplot(x='country', hue='is_referral', data=df, ax=ax[0])\n",
    "ax[0].set_ylabel('Country-wise Transaction Number', fontsize=12)\n",
    "\n",
    "sns.barplot(x='country', y='money_spent', hue='is_referral', data=df, ax=ax[1])\n",
    "ax[1].set_ylabel('Country-wise Transaction Amount', fontsize=12)\n",
    "plt.tight_layout()\n",
    "plt.show()"
   ]
  },
  {
   "cell_type": "code",
   "execution_count": 56,
   "metadata": {},
   "outputs": [
    {
     "data": {
      "image/png": "[encoded data removed]",
      "text/plain": [
       "<Figure size 1800x1200 with 2 Axes>"
      ]
     },
     "metadata": {},
     "output_type": "display_data"
    }
   ],
   "source": [
    "# daily money spent visualization (weekday vs weekend)\n",
    "fig, ax = plt.subplots(nrows=2, ncols=1, figsize=(18, 12))\n",
    "sns.countplot(x='is_weekend', hue='is_referral', data=df, ax=ax[0])\n",
    "ax[0].set_ylabel('Day-wise Transaction Number', fontsize=12)\n",
    "\n",
    "sns.barplot(x='is_weekend', y='money_spent', hue='is_referral', data=df, ax=ax[1])\n",
    "ax[1].set_ylabel('Day-wise Transaction Amount', fontsize=12)\n",
    "plt.tight_layout()\n",
    "plt.show()"
   ]
  },
  {
   "cell_type": "markdown",
   "metadata": {},
   "source": [
    "## Next steps  \n",
    "- do proper A/B testing set-up: divide with and without referral systems populations in same country at same dates  \n",
    "- explore the cultural aspect of referrals for different countries  \n",
    "- limit the number of referrals to a certian amount of money spent on the website  "
   ]
  },
  {
   "cell_type": "code",
   "execution_count": null,
   "metadata": {},
   "outputs": [],
   "source": []
  }
 ],
 "metadata": {
  "kernelspec": {
   "display_name": "Python 3",
   "language": "python",
   "name": "python3"
  },
  "language_info": {
   "codemirror_mode": {
    "name": "ipython",
    "version": 3
   },
   "file_extension": ".py",
   "mimetype": "text/x-python",
   "name": "python",
   "nbconvert_exporter": "python",
   "pygments_lexer": "ipython3",
   "version": "3.7.10"
  }
 },
 "nbformat": 4,
 "nbformat_minor": 2
}
