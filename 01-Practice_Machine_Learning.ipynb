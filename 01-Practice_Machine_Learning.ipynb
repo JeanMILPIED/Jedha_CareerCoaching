{
 "metadata": {
  "language_info": {
   "codemirror_mode": {
    "name": "ipython",
    "version": 3
   },
   "file_extension": ".py",
   "mimetype": "text/x-python",
   "name": "python",
   "nbconvert_exporter": "python",
   "pygments_lexer": "ipython3",
   "version": 3
  },
  "orig_nbformat": 2
 },
 "nbformat": 4,
 "nbformat_minor": 2,
 "cells": [
  {
   "source": [
    "# 🥇 Practice Machine Learning Concept 🥇\n",
    "\n",
    "![False Positive Rate](https://full-stack-assets.s3.eu-west-3.amazonaws.com/False_Positive_Rate_web.png)\n",
    "\n",
    "## What you'll be learning in this course 🧐🧐\n",
    "\n",
    "Here we are not going to learn a whole lot more about what we already know. Instead, let's review key concepts with super nice Flashcards! \n",
    "\n",
    "## Machine Learning Flash Cards 📝📝\n",
    "\n",
    "A very simple and fun way to review all the Machine Learning concepts that we've covered is to use Flashcards! \n",
    "\n",
    "These ones where made by [Chris Albon](https://chrisalbon.com/) who's Director of Machine Learning @ <a href=\"https://wikimediafoundation.org/\" target=\"_blank\">Wikimedia Foundation</a>. "
   ],
   "cell_type": "markdown",
   "metadata": {}
  },
  {
   "source": [
    "\n",
    "📥 Download them all here 👉👉 https://full-stack-assets.s3.eu-west-3.amazonaws.com/Machine+Learning+Flashcards.zip\n",
    "\n",
    "FYI, we gave you the full set of flashcards. Some of them won't be of much help so feel free to filter them out.\n"
   ],
   "cell_type": "markdown",
   "metadata": {}
  },
  {
   "source": [
    "## Sample Flascards\n",
    "\n",
    "Here are a few examples : \n",
    "\n",
    "![F1_Score](https://full-stack-assets.s3.eu-west-3.amazonaws.com/F1_Score_web.png)\n",
    "\n",
    "\n",
    "![Epoch](https://full-stack-assets.s3.eu-west-3.amazonaws.com/Epoch_web.png)\n",
    "\n",
    "![Data Augmentation](https://full-stack-assets.s3.eu-west-3.amazonaws.com/Dataset_Augmentation_web.png)"
   ],
   "cell_type": "markdown",
   "metadata": {}
  },
  {
   "source": [
    "## What are these flashcards useful for? 💁💁\n",
    "\n",
    "Flashcards are perfect when you are preparing for a job interview! Make sure you read them and practice on them. It's extremely useful especially when you'll be tested on technical questions"
   ],
   "cell_type": "markdown",
   "metadata": {}
  },
  {
   "source": [
    "## How to practice ℹ️ℹ️\n",
    "\n",
    "If you want to make a good use of these flashcards, simply read them once and then try to test yourself by reading only the title and describing the concept with what you memorized of it. \n",
    "\n",
    "This technic will definitely help you learn fast! "
   ],
   "cell_type": "markdown",
   "metadata": {}
  }
 ]
}